{
  "nbformat": 4,
  "nbformat_minor": 0,
  "metadata": {
    "colab": {
      "provenance": [],
      "collapsed_sections": [],
      "authorship_tag": "ABX9TyPnhzcjKHFfoRp492xmCbpO",
      "include_colab_link": true
    },
    "kernelspec": {
      "name": "python3",
      "display_name": "Python 3"
    },
    "language_info": {
      "name": "python"
    },
    "accelerator": "GPU"
  },
  "cells": [
    {
      "cell_type": "markdown",
      "metadata": {
        "id": "view-in-github",
        "colab_type": "text"
      },
      "source": [
        "<a href=\"https://colab.research.google.com/github/kenhuangsy/Implementing-CNN-Architectures/blob/main/LeNet5.ipynb\" target=\"_parent\"><img src=\"https://colab.research.google.com/assets/colab-badge.svg\" alt=\"Open In Colab\"/></a>"
      ]
    },
    {
      "cell_type": "code",
      "source": [
        "from keras.datasets import mnist"
      ],
      "metadata": {
        "id": "jUscsKqGhXsq"
      },
      "execution_count": 1,
      "outputs": []
    },
    {
      "cell_type": "code",
      "source": [
        "from sklearn.model_selection import train_test_split\n",
        "\n",
        "(X_train, y_train), (X_test, y_test) = mnist.load_data()\n",
        "X_train, X_val, y_train, y_val = train_test_split(X_train, y_train, test_size = 0.2,\n",
        "                                                  random_state = 42)"
      ],
      "metadata": {
        "colab": {
          "base_uri": "https://localhost:8080/"
        },
        "id": "R11Xs4GhhaEJ",
        "outputId": "86cf8dc8-23b0-4742-83d3-65289e49c7e5"
      },
      "execution_count": 2,
      "outputs": [
        {
          "output_type": "stream",
          "name": "stdout",
          "text": [
            "Downloading data from https://storage.googleapis.com/tensorflow/tf-keras-datasets/mnist.npz\n",
            "11490434/11490434 [==============================] - 0s 0us/step\n"
          ]
        }
      ]
    },
    {
      "cell_type": "code",
      "source": [
        "print(X_train.shape)\n",
        "print(X_test.shape)\n",
        "print(X_val.shape)\n",
        "\n",
        "print(y_train.shape)\n",
        "print(y_test.shape)\n",
        "print(y_val.shape)"
      ],
      "metadata": {
        "colab": {
          "base_uri": "https://localhost:8080/"
        },
        "id": "XXZZWLC7hu2O",
        "outputId": "6e33edde-879e-48b0-f605-238ded3d59c9"
      },
      "execution_count": 3,
      "outputs": [
        {
          "output_type": "stream",
          "name": "stdout",
          "text": [
            "(48000, 28, 28)\n",
            "(10000, 28, 28)\n",
            "(12000, 28, 28)\n",
            "(48000,)\n",
            "(10000,)\n",
            "(12000,)\n"
          ]
        }
      ]
    },
    {
      "cell_type": "code",
      "source": [
        "import matplotlib.pyplot as plt\n",
        "\n",
        "fig = plt.figure(figsize = (20,20))\n",
        "for i in range(6):\n",
        "  ax = fig.add_subplot(1, 6, i+1, xticks = [], yticks = [])\n",
        "  ax.imshow(X_train[i], cmap = 'gray')\n",
        "  ax.set_title(str(y_train[i]))"
      ],
      "metadata": {
        "colab": {
          "base_uri": "https://localhost:8080/",
          "height": 210
        },
        "id": "mFkPcFs-sICy",
        "outputId": "496ab25f-c450-45c4-acc4-48f9681d47fb"
      },
      "execution_count": 4,
      "outputs": [
        {
          "output_type": "display_data",
          "data": {
            "text/plain": [
              "<Figure size 1440x1440 with 6 Axes>"
            ],
            "image/png": "[encoded data removed]"
          },
          "metadata": {}
        }
      ]
    },
    {
      "cell_type": "code",
      "source": [
        "# Normalize the data\n",
        "import numpy as np\n",
        "mean = np.mean(X_train)\n",
        "std = np.std(X_train)\n",
        "\n",
        "X_train = (X_train - mean)/(std+1e-7)\n",
        "X_test = (X_test - mean)/(std+1e-7)\n",
        "X_val = (X_val - mean)/(std+1e-7)\n",
        "\n",
        "print(X_train.shape[0], 'train samples')\n",
        "print(X_test.shape[0], 'test samples')\n",
        "print(X_val.shape[0], 'validation samples')"
      ],
      "metadata": {
        "colab": {
          "base_uri": "https://localhost:8080/"
        },
        "id": "gq-EV8-Qsnl5",
        "outputId": "613e6c30-4747-4d1a-f87b-c342e713f8a1"
      },
      "execution_count": 5,
      "outputs": [
        {
          "output_type": "stream",
          "name": "stdout",
          "text": [
            "48000 train samples\n",
            "10000 test samples\n",
            "12000 validation samples\n"
          ]
        }
      ]
    },
    {
      "cell_type": "code",
      "source": [
        "# One hot encode the data\n",
        "from keras.utils import np_utils\n",
        "\n",
        "num_classes = 10\n",
        "y_train = np_utils.to_categorical(y_train, num_classes)\n",
        "y_test = np_utils.to_categorical(y_test, num_classes)"
      ],
      "metadata": {
        "id": "DaLeHZ_LtAkb"
      },
      "execution_count": 6,
      "outputs": []
    },
    {
      "cell_type": "code",
      "source": [
        "y_val = np_utils.to_categorical(y_val, num_classes)"
      ],
      "metadata": {
        "id": "Kf2TEPc4tWA8"
      },
      "execution_count": 7,
      "outputs": []
    },
    {
      "cell_type": "code",
      "source": [
        "X_train.shape[0]"
      ],
      "metadata": {
        "colab": {
          "base_uri": "https://localhost:8080/"
        },
        "id": "5kB8b_EdthLT",
        "outputId": "e938b633-d64b-4342-cf50-57dc8fffd62d"
      },
      "execution_count": 8,
      "outputs": [
        {
          "output_type": "execute_result",
          "data": {
            "text/plain": [
              "48000"
            ]
          },
          "metadata": {},
          "execution_count": 8
        }
      ]
    },
    {
      "cell_type": "code",
      "source": [
        "# Reshape the data to fit our CNN\n",
        "\n",
        "img_rows, img_cols = 28, 28\n",
        "\n",
        "X_train = X_train.reshape(X_train.shape[0], img_rows, img_cols, 1)\n",
        "X_test = X_test.reshape(X_test.shape[0], img_rows, img_cols, 1)\n",
        "X_val = X_val.reshape(X_val.shape[0], img_rows, img_cols, 1)"
      ],
      "metadata": {
        "id": "8Zr7qR6LtbPp"
      },
      "execution_count": 9,
      "outputs": []
    },
    {
      "cell_type": "code",
      "execution_count": 10,
      "metadata": {
        "id": "1WHOKZ4mdnsO"
      },
      "outputs": [],
      "source": [
        "from keras.models import Sequential\n",
        "from keras.layers import Dense, Flatten, AveragePooling2D, Conv2D\n",
        "\n",
        "INPUT_SHAPE = (28, 28, 1)\n",
        "\n",
        "lenet_model = Sequential([\n",
        "    # C1 Convolutional Layer\n",
        "    Conv2D(filters = 6, kernel_size = 5, strides = 1, activation = 'tanh', padding = 'same',\n",
        "           input_shape = INPUT_SHAPE),\n",
        "    \n",
        "    # S2 Pooling Layer\n",
        "    AveragePooling2D(pool_size = 2, strides = 2, padding = 'valid'),\n",
        "\n",
        "    # C3 Convolutional layer\n",
        "    Conv2D(filters = 16, kernel_size = 5, strides = 1, activation = 'tanh',\n",
        "           padding = 'valid'),\n",
        "    \n",
        "    # S4 Pooling Layer\n",
        "    AveragePooling2D(pool_size = 2, strides = 2, padding = 'valid'),\n",
        "\n",
        "    # C5 Convolutional Layer\n",
        "    Conv2D(filters = 120, kernel_size = 5, strides = 1, activation = 'tanh',\n",
        "           padding = 'valid'),\n",
        "\n",
        "    # Flatten to feed into FC\n",
        "    Flatten(),\n",
        "\n",
        "    # FC6\n",
        "    Dense(units = 84, activation = 'tanh'),\n",
        "\n",
        "    # FC7\n",
        "    Dense(10, activation = 'softmax')\n",
        "])"
      ]
    },
    {
      "cell_type": "code",
      "source": [
        "lenet_model.summary()"
      ],
      "metadata": {
        "colab": {
          "base_uri": "https://localhost:8080/"
        },
        "id": "fDUIoH53fWe6",
        "outputId": "d047e5f3-b015-40fb-e0fe-14df7a0a2c2d"
      },
      "execution_count": 11,
      "outputs": [
        {
          "output_type": "stream",
          "name": "stdout",
          "text": [
            "Model: \"sequential\"\n",
            "_________________________________________________________________\n",
            " Layer (type)                Output Shape              Param #   \n",
            "=================================================================\n",
            " conv2d (Conv2D)             (None, 28, 28, 6)         156       \n",
            "                                                                 \n",
            " average_pooling2d (AverageP  (None, 14, 14, 6)        0         \n",
            " ooling2D)                                                       \n",
            "                                                                 \n",
            " conv2d_1 (Conv2D)           (None, 10, 10, 16)        2416      \n",
            "                                                                 \n",
            " average_pooling2d_1 (Averag  (None, 5, 5, 16)         0         \n",
            " ePooling2D)                                                     \n",
            "                                                                 \n",
            " conv2d_2 (Conv2D)           (None, 1, 1, 120)         48120     \n",
            "                                                                 \n",
            " flatten (Flatten)           (None, 120)               0         \n",
            "                                                                 \n",
            " dense (Dense)               (None, 84)                10164     \n",
            "                                                                 \n",
            " dense_1 (Dense)             (None, 10)                850       \n",
            "                                                                 \n",
            "=================================================================\n",
            "Total params: 61,706\n",
            "Trainable params: 61,706\n",
            "Non-trainable params: 0\n",
            "_________________________________________________________________\n"
          ]
        }
      ]
    },
    {
      "cell_type": "code",
      "source": [
        "# Learning rescheduler\n",
        "def lr_schedule(epoch):\n",
        "  \"\"\"\n",
        "  Args:\n",
        "    epoch(int): number of epoch\n",
        "  Return\n",
        "    lr(int): learning rate\n",
        "  \"\"\"\n",
        "  if epoch <= 2: # 0.0005 for the first two epochs\n",
        "    lr = 5e-4\n",
        "  elif epoch > 2 and epoch <= 5: # 0.0002 for the next 3 epochs\n",
        "    lr = 2e-4\n",
        "  elif epoch > 5 and epoch <= 9: # 0.00005 for the next 4\n",
        "    lr = 5e-5\n",
        "  else: # finally 0.00001\n",
        "    lr = 1e-5 \n",
        "  return lr"
      ],
      "metadata": {
        "id": "d3N1u7rSfeJo"
      },
      "execution_count": 12,
      "outputs": []
    },
    {
      "cell_type": "code",
      "source": [
        "from keras.callbacks import ModelCheckpoint, LearningRateScheduler\n",
        "\n",
        "lr_scheduler = LearningRateScheduler(lr_schedule)\n",
        "checkpoint = ModelCheckpoint(filepath = \"lenet5.hdf5\", monitor = 'val_acc',\n",
        "                             verbose = 1,\n",
        "                             save_best_only = True)\n",
        "\n",
        "callbacks = [checkpoint, lr_scheduler]\n",
        "\n",
        "lenet_model.compile(loss = 'categorical_crossentropy',\n",
        "                    optimizer = 'SGD',\n",
        "                    metrics = ['accuracy'])\n",
        "\n",
        "\n"
      ],
      "metadata": {
        "id": "sHE7kyNrgjOg"
      },
      "execution_count": 13,
      "outputs": []
    },
    {
      "cell_type": "code",
      "source": [
        "lenet_hist = lenet_model.fit(X_train, y_train,\n",
        "                             batch_size = 32,\n",
        "                             epochs = 20,\n",
        "                             validation_data = (X_val, y_val),\n",
        "                             callbacks = callbacks,\n",
        "                             verbose = 2, shuffle = True)"
      ],
      "metadata": {
        "colab": {
          "base_uri": "https://localhost:8080/"
        },
        "id": "ISCHkvVCh4k_",
        "outputId": "86d84c88-840b-4b02-97d9-28461f78a3db"
      },
      "execution_count": 14,
      "outputs": [
        {
          "output_type": "stream",
          "name": "stdout",
          "text": [
            "Epoch 1/20\n"
          ]
        },
        {
          "output_type": "stream",
          "name": "stderr",
          "text": [
            "WARNING:tensorflow:Can save best model only with val_acc available, skipping.\n"
          ]
        },
        {
          "output_type": "stream",
          "name": "stdout",
          "text": [
            "1500/1500 - 16s - loss: 1.9430 - accuracy: 0.5044 - val_loss: 1.5153 - val_accuracy: 0.6819 - lr: 5.0000e-04 - 16s/epoch - 11ms/step\n",
            "Epoch 2/20\n"
          ]
        },
        {
          "output_type": "stream",
          "name": "stderr",
          "text": [
            "WARNING:tensorflow:Can save best model only with val_acc available, skipping.\n"
          ]
        },
        {
          "output_type": "stream",
          "name": "stdout",
          "text": [
            "1500/1500 - 5s - loss: 1.1866 - accuracy: 0.7407 - val_loss: 0.9558 - val_accuracy: 0.7876 - lr: 5.0000e-04 - 5s/epoch - 3ms/step\n",
            "Epoch 3/20\n"
          ]
        },
        {
          "output_type": "stream",
          "name": "stderr",
          "text": [
            "WARNING:tensorflow:Can save best model only with val_acc available, skipping.\n"
          ]
        },
        {
          "output_type": "stream",
          "name": "stdout",
          "text": [
            "1500/1500 - 5s - loss: 0.8237 - accuracy: 0.8137 - val_loss: 0.7282 - val_accuracy: 0.8314 - lr: 5.0000e-04 - 5s/epoch - 3ms/step\n",
            "Epoch 4/20\n"
          ]
        },
        {
          "output_type": "stream",
          "name": "stderr",
          "text": [
            "WARNING:tensorflow:Can save best model only with val_acc available, skipping.\n"
          ]
        },
        {
          "output_type": "stream",
          "name": "stdout",
          "text": [
            "1500/1500 - 5s - loss: 0.6973 - accuracy: 0.8381 - val_loss: 0.6736 - val_accuracy: 0.8417 - lr: 2.0000e-04 - 5s/epoch - 3ms/step\n",
            "Epoch 5/20\n"
          ]
        },
        {
          "output_type": "stream",
          "name": "stderr",
          "text": [
            "WARNING:tensorflow:Can save best model only with val_acc available, skipping.\n"
          ]
        },
        {
          "output_type": "stream",
          "name": "stdout",
          "text": [
            "1500/1500 - 5s - loss: 0.6493 - accuracy: 0.8480 - val_loss: 0.6303 - val_accuracy: 0.8501 - lr: 2.0000e-04 - 5s/epoch - 3ms/step\n",
            "Epoch 6/20\n"
          ]
        },
        {
          "output_type": "stream",
          "name": "stderr",
          "text": [
            "WARNING:tensorflow:Can save best model only with val_acc available, skipping.\n"
          ]
        },
        {
          "output_type": "stream",
          "name": "stdout",
          "text": [
            "1500/1500 - 5s - loss: 0.6107 - accuracy: 0.8544 - val_loss: 0.5948 - val_accuracy: 0.8565 - lr: 2.0000e-04 - 5s/epoch - 3ms/step\n",
            "Epoch 7/20\n"
          ]
        },
        {
          "output_type": "stream",
          "name": "stderr",
          "text": [
            "WARNING:tensorflow:Can save best model only with val_acc available, skipping.\n"
          ]
        },
        {
          "output_type": "stream",
          "name": "stdout",
          "text": [
            "1500/1500 - 4s - loss: 0.5898 - accuracy: 0.8595 - val_loss: 0.5869 - val_accuracy: 0.8574 - lr: 5.0000e-05 - 4s/epoch - 3ms/step\n",
            "Epoch 8/20\n"
          ]
        },
        {
          "output_type": "stream",
          "name": "stderr",
          "text": [
            "WARNING:tensorflow:Can save best model only with val_acc available, skipping.\n"
          ]
        },
        {
          "output_type": "stream",
          "name": "stdout",
          "text": [
            "1500/1500 - 5s - loss: 0.5822 - accuracy: 0.8613 - val_loss: 0.5793 - val_accuracy: 0.8588 - lr: 5.0000e-05 - 5s/epoch - 4ms/step\n",
            "Epoch 9/20\n"
          ]
        },
        {
          "output_type": "stream",
          "name": "stderr",
          "text": [
            "WARNING:tensorflow:Can save best model only with val_acc available, skipping.\n"
          ]
        },
        {
          "output_type": "stream",
          "name": "stdout",
          "text": [
            "1500/1500 - 5s - loss: 0.5749 - accuracy: 0.8624 - val_loss: 0.5721 - val_accuracy: 0.8597 - lr: 5.0000e-05 - 5s/epoch - 3ms/step\n",
            "Epoch 10/20\n"
          ]
        },
        {
          "output_type": "stream",
          "name": "stderr",
          "text": [
            "WARNING:tensorflow:Can save best model only with val_acc available, skipping.\n"
          ]
        },
        {
          "output_type": "stream",
          "name": "stdout",
          "text": [
            "1500/1500 - 8s - loss: 0.5679 - accuracy: 0.8636 - val_loss: 0.5651 - val_accuracy: 0.8618 - lr: 5.0000e-05 - 8s/epoch - 5ms/step\n",
            "Epoch 11/20\n"
          ]
        },
        {
          "output_type": "stream",
          "name": "stderr",
          "text": [
            "WARNING:tensorflow:Can save best model only with val_acc available, skipping.\n"
          ]
        },
        {
          "output_type": "stream",
          "name": "stdout",
          "text": [
            "1500/1500 - 7s - loss: 0.5638 - accuracy: 0.8644 - val_loss: 0.5638 - val_accuracy: 0.8624 - lr: 1.0000e-05 - 7s/epoch - 5ms/step\n",
            "Epoch 12/20\n"
          ]
        },
        {
          "output_type": "stream",
          "name": "stderr",
          "text": [
            "WARNING:tensorflow:Can save best model only with val_acc available, skipping.\n"
          ]
        },
        {
          "output_type": "stream",
          "name": "stdout",
          "text": [
            "1500/1500 - 7s - loss: 0.5625 - accuracy: 0.8646 - val_loss: 0.5624 - val_accuracy: 0.8626 - lr: 1.0000e-05 - 7s/epoch - 5ms/step\n",
            "Epoch 13/20\n"
          ]
        },
        {
          "output_type": "stream",
          "name": "stderr",
          "text": [
            "WARNING:tensorflow:Can save best model only with val_acc available, skipping.\n"
          ]
        },
        {
          "output_type": "stream",
          "name": "stdout",
          "text": [
            "1500/1500 - 7s - loss: 0.5612 - accuracy: 0.8648 - val_loss: 0.5611 - val_accuracy: 0.8626 - lr: 1.0000e-05 - 7s/epoch - 5ms/step\n",
            "Epoch 14/20\n"
          ]
        },
        {
          "output_type": "stream",
          "name": "stderr",
          "text": [
            "WARNING:tensorflow:Can save best model only with val_acc available, skipping.\n"
          ]
        },
        {
          "output_type": "stream",
          "name": "stdout",
          "text": [
            "1500/1500 - 6s - loss: 0.5599 - accuracy: 0.8649 - val_loss: 0.5598 - val_accuracy: 0.8627 - lr: 1.0000e-05 - 6s/epoch - 4ms/step\n",
            "Epoch 15/20\n"
          ]
        },
        {
          "output_type": "stream",
          "name": "stderr",
          "text": [
            "WARNING:tensorflow:Can save best model only with val_acc available, skipping.\n"
          ]
        },
        {
          "output_type": "stream",
          "name": "stdout",
          "text": [
            "1500/1500 - 7s - loss: 0.5586 - accuracy: 0.8652 - val_loss: 0.5584 - val_accuracy: 0.8633 - lr: 1.0000e-05 - 7s/epoch - 5ms/step\n",
            "Epoch 16/20\n"
          ]
        },
        {
          "output_type": "stream",
          "name": "stderr",
          "text": [
            "WARNING:tensorflow:Can save best model only with val_acc available, skipping.\n"
          ]
        },
        {
          "output_type": "stream",
          "name": "stdout",
          "text": [
            "1500/1500 - 5s - loss: 0.5573 - accuracy: 0.8655 - val_loss: 0.5571 - val_accuracy: 0.8637 - lr: 1.0000e-05 - 5s/epoch - 4ms/step\n",
            "Epoch 17/20\n"
          ]
        },
        {
          "output_type": "stream",
          "name": "stderr",
          "text": [
            "WARNING:tensorflow:Can save best model only with val_acc available, skipping.\n"
          ]
        },
        {
          "output_type": "stream",
          "name": "stdout",
          "text": [
            "1500/1500 - 7s - loss: 0.5560 - accuracy: 0.8658 - val_loss: 0.5558 - val_accuracy: 0.8639 - lr: 1.0000e-05 - 7s/epoch - 5ms/step\n",
            "Epoch 18/20\n"
          ]
        },
        {
          "output_type": "stream",
          "name": "stderr",
          "text": [
            "WARNING:tensorflow:Can save best model only with val_acc available, skipping.\n"
          ]
        },
        {
          "output_type": "stream",
          "name": "stdout",
          "text": [
            "1500/1500 - 6s - loss: 0.5547 - accuracy: 0.8661 - val_loss: 0.5546 - val_accuracy: 0.8644 - lr: 1.0000e-05 - 6s/epoch - 4ms/step\n",
            "Epoch 19/20\n"
          ]
        },
        {
          "output_type": "stream",
          "name": "stderr",
          "text": [
            "WARNING:tensorflow:Can save best model only with val_acc available, skipping.\n"
          ]
        },
        {
          "output_type": "stream",
          "name": "stdout",
          "text": [
            "1500/1500 - 6s - loss: 0.5535 - accuracy: 0.8663 - val_loss: 0.5533 - val_accuracy: 0.8645 - lr: 1.0000e-05 - 6s/epoch - 4ms/step\n",
            "Epoch 20/20\n"
          ]
        },
        {
          "output_type": "stream",
          "name": "stderr",
          "text": [
            "WARNING:tensorflow:Can save best model only with val_acc available, skipping.\n"
          ]
        },
        {
          "output_type": "stream",
          "name": "stdout",
          "text": [
            "1500/1500 - 5s - loss: 0.5522 - accuracy: 0.8663 - val_loss: 0.5520 - val_accuracy: 0.8652 - lr: 1.0000e-05 - 5s/epoch - 3ms/step\n"
          ]
        }
      ]
    },
    {
      "cell_type": "code",
      "source": [
        "score = lenet_model.evaluate(X_test, y_test, verbose = 0)\n",
        "accuracy = 100*score[1]\n",
        "\n",
        "print('Test accuracy:', round(accuracy, 4))"
      ],
      "metadata": {
        "colab": {
          "base_uri": "https://localhost:8080/"
        },
        "id": "AWUrpsG8iCf1",
        "outputId": "ca20192d-150a-4168-dd78-2470050ab9bf"
      },
      "execution_count": 15,
      "outputs": [
        {
          "output_type": "stream",
          "name": "stdout",
          "text": [
            "Test accuracy: 87.48\n"
          ]
        }
      ]
    },
    {
      "cell_type": "code",
      "source": [
        "import matplotlib.pyplot as plt\n",
        "\n",
        "f, ax = plt.subplots()\n",
        "ax.plot([None] + lenet_hist.history['accuracy'], 'o-')\n",
        "ax.plot([None] + lenet_hist.history['val_accuracy'], 'x-')\n",
        "# Plot legend and use the best location automatically: loc = 0.\n",
        "ax.legend(['Train acc', 'Validation acc'], loc = 0)\n",
        "ax.set_title('Training/Validation acc per Epoch')\n",
        "ax.set_xlabel('Epoch')\n",
        "ax.set_ylabel('acc')\n",
        "plt.show()"
      ],
      "metadata": {
        "colab": {
          "base_uri": "https://localhost:8080/",
          "height": 295
        },
        "id": "FRvri30tvH-0",
        "outputId": "647e35e4-b3a3-4d31-c18b-116715ef7d2d"
      },
      "execution_count": 16,
      "outputs": [
        {
          "output_type": "display_data",
          "data": {
            "text/plain": [
              "<Figure size 432x288 with 1 Axes>"
            ],
            "image/png": "[encoded data removed]"
          },
          "metadata": {
            "needs_background": "light"
          }
        }
      ]
    },
    {
      "cell_type": "code",
      "source": [
        "import matplotlib.pyplot as plt\n",
        "\n",
        "f, ax = plt.subplots()\n",
        "ax.plot([None] + lenet_hist.history['loss'], 'o-')\n",
        "ax.plot([None] + lenet_hist.history['val_loss'], 'x-')\n",
        "\n",
        "# Plot legend and use the best location automatically: loc = 0.\n",
        "ax.legend(['Train loss', \"Val loss\"], loc = 0)\n",
        "ax.set_title('Training/Validation Loss per Epoch')\n",
        "ax.set_xlabel('Epoch')\n",
        "ax.set_ylabel('Loss')\n",
        "plt.show()"
      ],
      "metadata": {
        "colab": {
          "base_uri": "https://localhost:8080/",
          "height": 295
        },
        "id": "T1FU3C3YvNLW",
        "outputId": "080e64a1-cea5-40c0-8a61-4dffb40582d4"
      },
      "execution_count": 18,
      "outputs": [
        {
          "output_type": "display_data",
          "data": {
            "text/plain": [
              "<Figure size 432x288 with 1 Axes>"
            ],
            "image/png": "[encoded data removed]"
          },
          "metadata": {
            "needs_background": "light"
          }
        }
      ]
    },
    {
      "cell_type": "markdown",
      "source": [
        "Trying it with Adam instead of SGD"
      ],
      "metadata": {
        "id": "dQfv35zmvbC9"
      }
    },
    {
      "cell_type": "code",
      "source": [
        "lenet_model.compile(loss = 'categorical_crossentropy',\n",
        "                    optimizer = 'Adam',\n",
        "                    metrics = ['accuracy'])\n"
      ],
      "metadata": {
        "id": "4kp2fJlMvRjR"
      },
      "execution_count": 19,
      "outputs": []
    },
    {
      "cell_type": "code",
      "source": [
        "lenet_model.fit(X_train, y_train,\n",
        "                batch_size = 32,\n",
        "                validation_data = (X_val, y_val),\n",
        "                callbacks = callbacks,\n",
        "                epochs = 20,\n",
        "                verbose = 2, shuffle = True)"
      ],
      "metadata": {
        "colab": {
          "base_uri": "https://localhost:8080/"
        },
        "id": "byuS8EWtvdvZ",
        "outputId": "64df1ebc-609d-47d9-a29a-303759d7b774"
      },
      "execution_count": 20,
      "outputs": [
        {
          "output_type": "stream",
          "name": "stdout",
          "text": [
            "Epoch 1/20\n"
          ]
        },
        {
          "output_type": "stream",
          "name": "stderr",
          "text": [
            "WARNING:tensorflow:Can save best model only with val_acc available, skipping.\n"
          ]
        },
        {
          "output_type": "stream",
          "name": "stdout",
          "text": [
            "1500/1500 - 6s - loss: 0.2051 - accuracy: 0.9394 - val_loss: 0.1032 - val_accuracy: 0.9685 - lr: 5.0000e-04 - 6s/epoch - 4ms/step\n",
            "Epoch 2/20\n"
          ]
        },
        {
          "output_type": "stream",
          "name": "stderr",
          "text": [
            "WARNING:tensorflow:Can save best model only with val_acc available, skipping.\n"
          ]
        },
        {
          "output_type": "stream",
          "name": "stdout",
          "text": [
            "1500/1500 - 5s - loss: 0.0859 - accuracy: 0.9735 - val_loss: 0.0706 - val_accuracy: 0.9786 - lr: 5.0000e-04 - 5s/epoch - 3ms/step\n",
            "Epoch 3/20\n"
          ]
        },
        {
          "output_type": "stream",
          "name": "stderr",
          "text": [
            "WARNING:tensorflow:Can save best model only with val_acc available, skipping.\n"
          ]
        },
        {
          "output_type": "stream",
          "name": "stdout",
          "text": [
            "1500/1500 - 5s - loss: 0.0599 - accuracy: 0.9812 - val_loss: 0.0542 - val_accuracy: 0.9835 - lr: 5.0000e-04 - 5s/epoch - 3ms/step\n",
            "Epoch 4/20\n"
          ]
        },
        {
          "output_type": "stream",
          "name": "stderr",
          "text": [
            "WARNING:tensorflow:Can save best model only with val_acc available, skipping.\n"
          ]
        },
        {
          "output_type": "stream",
          "name": "stdout",
          "text": [
            "1500/1500 - 5s - loss: 0.0359 - accuracy: 0.9896 - val_loss: 0.0455 - val_accuracy: 0.9862 - lr: 2.0000e-04 - 5s/epoch - 3ms/step\n",
            "Epoch 5/20\n"
          ]
        },
        {
          "output_type": "stream",
          "name": "stderr",
          "text": [
            "WARNING:tensorflow:Can save best model only with val_acc available, skipping.\n"
          ]
        },
        {
          "output_type": "stream",
          "name": "stdout",
          "text": [
            "1500/1500 - 5s - loss: 0.0310 - accuracy: 0.9905 - val_loss: 0.0400 - val_accuracy: 0.9880 - lr: 2.0000e-04 - 5s/epoch - 3ms/step\n",
            "Epoch 6/20\n"
          ]
        },
        {
          "output_type": "stream",
          "name": "stderr",
          "text": [
            "WARNING:tensorflow:Can save best model only with val_acc available, skipping.\n"
          ]
        },
        {
          "output_type": "stream",
          "name": "stdout",
          "text": [
            "1500/1500 - 5s - loss: 0.0271 - accuracy: 0.9919 - val_loss: 0.0385 - val_accuracy: 0.9886 - lr: 2.0000e-04 - 5s/epoch - 4ms/step\n",
            "Epoch 7/20\n"
          ]
        },
        {
          "output_type": "stream",
          "name": "stderr",
          "text": [
            "WARNING:tensorflow:Can save best model only with val_acc available, skipping.\n"
          ]
        },
        {
          "output_type": "stream",
          "name": "stdout",
          "text": [
            "1500/1500 - 5s - loss: 0.0195 - accuracy: 0.9948 - val_loss: 0.0369 - val_accuracy: 0.9888 - lr: 5.0000e-05 - 5s/epoch - 3ms/step\n",
            "Epoch 8/20\n"
          ]
        },
        {
          "output_type": "stream",
          "name": "stderr",
          "text": [
            "WARNING:tensorflow:Can save best model only with val_acc available, skipping.\n"
          ]
        },
        {
          "output_type": "stream",
          "name": "stdout",
          "text": [
            "1500/1500 - 5s - loss: 0.0181 - accuracy: 0.9953 - val_loss: 0.0356 - val_accuracy: 0.9893 - lr: 5.0000e-05 - 5s/epoch - 3ms/step\n",
            "Epoch 9/20\n"
          ]
        },
        {
          "output_type": "stream",
          "name": "stderr",
          "text": [
            "WARNING:tensorflow:Can save best model only with val_acc available, skipping.\n"
          ]
        },
        {
          "output_type": "stream",
          "name": "stdout",
          "text": [
            "1500/1500 - 5s - loss: 0.0172 - accuracy: 0.9956 - val_loss: 0.0375 - val_accuracy: 0.9885 - lr: 5.0000e-05 - 5s/epoch - 4ms/step\n",
            "Epoch 10/20\n"
          ]
        },
        {
          "output_type": "stream",
          "name": "stderr",
          "text": [
            "WARNING:tensorflow:Can save best model only with val_acc available, skipping.\n"
          ]
        },
        {
          "output_type": "stream",
          "name": "stdout",
          "text": [
            "1500/1500 - 5s - loss: 0.0164 - accuracy: 0.9960 - val_loss: 0.0368 - val_accuracy: 0.9893 - lr: 5.0000e-05 - 5s/epoch - 3ms/step\n",
            "Epoch 11/20\n"
          ]
        },
        {
          "output_type": "stream",
          "name": "stderr",
          "text": [
            "WARNING:tensorflow:Can save best model only with val_acc available, skipping.\n"
          ]
        },
        {
          "output_type": "stream",
          "name": "stdout",
          "text": [
            "1500/1500 - 5s - loss: 0.0145 - accuracy: 0.9969 - val_loss: 0.0350 - val_accuracy: 0.9894 - lr: 1.0000e-05 - 5s/epoch - 4ms/step\n",
            "Epoch 12/20\n"
          ]
        },
        {
          "output_type": "stream",
          "name": "stderr",
          "text": [
            "WARNING:tensorflow:Can save best model only with val_acc available, skipping.\n"
          ]
        },
        {
          "output_type": "stream",
          "name": "stdout",
          "text": [
            "1500/1500 - 6s - loss: 0.0142 - accuracy: 0.9970 - val_loss: 0.0347 - val_accuracy: 0.9894 - lr: 1.0000e-05 - 6s/epoch - 4ms/step\n",
            "Epoch 13/20\n"
          ]
        },
        {
          "output_type": "stream",
          "name": "stderr",
          "text": [
            "WARNING:tensorflow:Can save best model only with val_acc available, skipping.\n"
          ]
        },
        {
          "output_type": "stream",
          "name": "stdout",
          "text": [
            "1500/1500 - 5s - loss: 0.0140 - accuracy: 0.9970 - val_loss: 0.0347 - val_accuracy: 0.9893 - lr: 1.0000e-05 - 5s/epoch - 3ms/step\n",
            "Epoch 14/20\n"
          ]
        },
        {
          "output_type": "stream",
          "name": "stderr",
          "text": [
            "WARNING:tensorflow:Can save best model only with val_acc available, skipping.\n"
          ]
        },
        {
          "output_type": "stream",
          "name": "stdout",
          "text": [
            "1500/1500 - 5s - loss: 0.0139 - accuracy: 0.9971 - val_loss: 0.0346 - val_accuracy: 0.9893 - lr: 1.0000e-05 - 5s/epoch - 3ms/step\n",
            "Epoch 15/20\n"
          ]
        },
        {
          "output_type": "stream",
          "name": "stderr",
          "text": [
            "WARNING:tensorflow:Can save best model only with val_acc available, skipping.\n"
          ]
        },
        {
          "output_type": "stream",
          "name": "stdout",
          "text": [
            "1500/1500 - 5s - loss: 0.0137 - accuracy: 0.9970 - val_loss: 0.0347 - val_accuracy: 0.9893 - lr: 1.0000e-05 - 5s/epoch - 3ms/step\n",
            "Epoch 16/20\n"
          ]
        },
        {
          "output_type": "stream",
          "name": "stderr",
          "text": [
            "WARNING:tensorflow:Can save best model only with val_acc available, skipping.\n"
          ]
        },
        {
          "output_type": "stream",
          "name": "stdout",
          "text": [
            "1500/1500 - 5s - loss: 0.0135 - accuracy: 0.9972 - val_loss: 0.0348 - val_accuracy: 0.9896 - lr: 1.0000e-05 - 5s/epoch - 3ms/step\n",
            "Epoch 17/20\n"
          ]
        },
        {
          "output_type": "stream",
          "name": "stderr",
          "text": [
            "WARNING:tensorflow:Can save best model only with val_acc available, skipping.\n"
          ]
        },
        {
          "output_type": "stream",
          "name": "stdout",
          "text": [
            "1500/1500 - 5s - loss: 0.0134 - accuracy: 0.9973 - val_loss: 0.0345 - val_accuracy: 0.9897 - lr: 1.0000e-05 - 5s/epoch - 3ms/step\n",
            "Epoch 18/20\n"
          ]
        },
        {
          "output_type": "stream",
          "name": "stderr",
          "text": [
            "WARNING:tensorflow:Can save best model only with val_acc available, skipping.\n"
          ]
        },
        {
          "output_type": "stream",
          "name": "stdout",
          "text": [
            "1500/1500 - 5s - loss: 0.0132 - accuracy: 0.9972 - val_loss: 0.0346 - val_accuracy: 0.9896 - lr: 1.0000e-05 - 5s/epoch - 3ms/step\n",
            "Epoch 19/20\n"
          ]
        },
        {
          "output_type": "stream",
          "name": "stderr",
          "text": [
            "WARNING:tensorflow:Can save best model only with val_acc available, skipping.\n"
          ]
        },
        {
          "output_type": "stream",
          "name": "stdout",
          "text": [
            "1500/1500 - 5s - loss: 0.0131 - accuracy: 0.9974 - val_loss: 0.0348 - val_accuracy: 0.9896 - lr: 1.0000e-05 - 5s/epoch - 3ms/step\n",
            "Epoch 20/20\n"
          ]
        },
        {
          "output_type": "stream",
          "name": "stderr",
          "text": [
            "WARNING:tensorflow:Can save best model only with val_acc available, skipping.\n"
          ]
        },
        {
          "output_type": "stream",
          "name": "stdout",
          "text": [
            "1500/1500 - 5s - loss: 0.0129 - accuracy: 0.9974 - val_loss: 0.0345 - val_accuracy: 0.9896 - lr: 1.0000e-05 - 5s/epoch - 3ms/step\n"
          ]
        },
        {
          "output_type": "execute_result",
          "data": {
            "text/plain": [
              "<keras.callbacks.History at 0x7f8cc42440d0>"
            ]
          },
          "metadata": {},
          "execution_count": 20
        }
      ]
    },
    {
      "cell_type": "code",
      "source": [
        "score = lenet_model.evaluate(X_test, y_test, verbose = 0)\n",
        "print(\"Accuracy:\", round(score[1]*100, 4))"
      ],
      "metadata": {
        "colab": {
          "base_uri": "https://localhost:8080/"
        },
        "id": "vAISj7qRvqj2",
        "outputId": "7bc186a8-90eb-44c8-dfcb-364597bc4d56"
      },
      "execution_count": 26,
      "outputs": [
        {
          "output_type": "stream",
          "name": "stdout",
          "text": [
            "Accuracy: 99.01\n"
          ]
        }
      ]
    },
    {
      "cell_type": "code",
      "source": [],
      "metadata": {
        "id": "6bNZUR-7wOsQ"
      },
      "execution_count": null,
      "outputs": []
    }
  ]
}